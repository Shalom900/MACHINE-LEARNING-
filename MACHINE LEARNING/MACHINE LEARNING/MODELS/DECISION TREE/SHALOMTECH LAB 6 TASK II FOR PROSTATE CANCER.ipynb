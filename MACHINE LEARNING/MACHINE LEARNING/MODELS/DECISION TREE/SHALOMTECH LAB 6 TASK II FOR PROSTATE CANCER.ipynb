{
 "cells": [
  {
   "cell_type": "code",
   "execution_count": 1,
   "id": "b147323d-2799-49de-9516-16b3aeb30b9c",
   "metadata": {},
   "outputs": [],
   "source": [
    "import numpy as np # linear algebra\n",
    "import pandas as pd # data processing, CSV file I/O (e.g. pd.read_csv)\n",
    "import matplotlib.pyplot as plt # data visualization\n",
    "import seaborn as sns # statistical data visualization\n",
    "%matplotlib inline"
   ]
  },
  {
   "cell_type": "code",
   "execution_count": 2,
   "id": "feecbc06-85bb-40b8-b91f-ab0aa27ae15c",
   "metadata": {},
   "outputs": [],
   "source": [
    "df = pd.read_csv('dietary_patterns_cancer.csv')"
   ]
  },
  {
   "cell_type": "code",
   "execution_count": 3,
   "id": "6a3fdad6-8782-4b18-80e8-29dc42625676",
   "metadata": {},
   "outputs": [
    {
     "data": {
      "text/plain": [
       "(2096, 12)"
      ]
     },
     "execution_count": 3,
     "metadata": {},
     "output_type": "execute_result"
    }
   ],
   "source": [
    "df.shape"
   ]
  },
  {
   "cell_type": "code",
   "execution_count": 4,
   "id": "d99a2536-0d1f-44a4-bf36-6cca000bcbd8",
   "metadata": {},
   "outputs": [
    {
     "name": "stdout",
     "output_type": "stream",
     "text": [
      "<class 'pandas.core.frame.DataFrame'>\n",
      "RangeIndex: 2096 entries, 0 to 2095\n",
      "Data columns (total 12 columns):\n",
      " #   Column                 Non-Null Count  Dtype \n",
      "---  ------                 --------------  ----- \n",
      " 0   Fruits and vegetables  2096 non-null   int64 \n",
      " 1   Whole grains           2096 non-null   int64 \n",
      " 2   Legumes                2096 non-null   int64 \n",
      " 3   Nuts and seeds         2096 non-null   int64 \n",
      " 4   Fish and poultry       2096 non-null   int64 \n",
      " 5   Processed meats        2096 non-null   int64 \n",
      " 6   Red meat               2096 non-null   int64 \n",
      " 7   Refined grains         2096 non-null   int64 \n",
      " 8   Sugary drinks          2096 non-null   int64 \n",
      " 9   High-fat dairy         2096 non-null   int64 \n",
      " 10  Smoking                2096 non-null   int64 \n",
      " 11  Prostate cancer        2096 non-null   object\n",
      "dtypes: int64(11), object(1)\n",
      "memory usage: 196.6+ KB\n"
     ]
    }
   ],
   "source": [
    "df.info()"
   ]
  },
  {
   "cell_type": "code",
   "execution_count": 5,
   "id": "96bc5248-d391-480b-9bdd-f5317792de6a",
   "metadata": {},
   "outputs": [],
   "source": [
    "#Declare feature vector and target variable"
   ]
  },
  {
   "cell_type": "code",
   "execution_count": 6,
   "id": "d4502981-fdb2-400d-9efe-f67968dd369d",
   "metadata": {},
   "outputs": [],
   "source": [
    "X = df.drop(['Prostate cancer'], axis=1)\n",
    "\n",
    "y = df['Prostate cancer']"
   ]
  },
  {
   "cell_type": "code",
   "execution_count": 7,
   "id": "50a2ce86-b183-4028-81d7-24decf7833b6",
   "metadata": {},
   "outputs": [],
   "source": [
    "# split X and y into training and testing sets"
   ]
  },
  {
   "cell_type": "code",
   "execution_count": 8,
   "id": "c217d0fe-6d6c-4427-bba8-34cb98cd582d",
   "metadata": {},
   "outputs": [],
   "source": [
    "from sklearn.model_selection import train_test_split\n",
    "\n",
    "X_train, X_test, y_train, y_test = train_test_split(X, y, test_size = 0.2, random_state = 42)"
   ]
  },
  {
   "cell_type": "code",
   "execution_count": 9,
   "id": "0e9c83b4-5c75-4925-a73c-b1a05fac5e40",
   "metadata": {},
   "outputs": [
    {
     "data": {
      "text/plain": [
       "((1676, 11), (420, 11))"
      ]
     },
     "execution_count": 9,
     "metadata": {},
     "output_type": "execute_result"
    }
   ],
   "source": [
    "X_train.shape, X_test.shape"
   ]
  },
  {
   "cell_type": "code",
   "execution_count": 10,
   "id": "21224a0c-a106-4c7e-bece-4f8c60411478",
   "metadata": {},
   "outputs": [],
   "source": [
    "#Feature Engineering"
   ]
  },
  {
   "cell_type": "code",
   "execution_count": 11,
   "id": "80806634-b8e4-4c4a-bca3-1c10f157c8dc",
   "metadata": {},
   "outputs": [
    {
     "data": {
      "text/plain": [
       "Fruits and vegetables    int64\n",
       "Whole grains             int64\n",
       "Legumes                  int64\n",
       "Nuts and seeds           int64\n",
       "Fish and poultry         int64\n",
       "Processed meats          int64\n",
       "Red meat                 int64\n",
       "Refined grains           int64\n",
       "Sugary drinks            int64\n",
       "High-fat dairy           int64\n",
       "Smoking                  int64\n",
       "dtype: object"
      ]
     },
     "execution_count": 11,
     "metadata": {},
     "output_type": "execute_result"
    }
   ],
   "source": [
    "X_train.dtypes"
   ]
  },
  {
   "cell_type": "code",
   "execution_count": 12,
   "id": "29408232-64f5-41a8-a545-c8df48b5831e",
   "metadata": {},
   "outputs": [
    {
     "data": {
      "text/html": [
       "<div>\n",
       "<style scoped>\n",
       "    .dataframe tbody tr th:only-of-type {\n",
       "        vertical-align: middle;\n",
       "    }\n",
       "\n",
       "    .dataframe tbody tr th {\n",
       "        vertical-align: top;\n",
       "    }\n",
       "\n",
       "    .dataframe thead th {\n",
       "        text-align: right;\n",
       "    }\n",
       "</style>\n",
       "<table border=\"1\" class=\"dataframe\">\n",
       "  <thead>\n",
       "    <tr style=\"text-align: right;\">\n",
       "      <th></th>\n",
       "      <th>Fruits and vegetables</th>\n",
       "      <th>Whole grains</th>\n",
       "      <th>Legumes</th>\n",
       "      <th>Nuts and seeds</th>\n",
       "      <th>Fish and poultry</th>\n",
       "      <th>Processed meats</th>\n",
       "      <th>Red meat</th>\n",
       "      <th>Refined grains</th>\n",
       "      <th>Sugary drinks</th>\n",
       "      <th>High-fat dairy</th>\n",
       "      <th>Smoking</th>\n",
       "    </tr>\n",
       "  </thead>\n",
       "  <tbody>\n",
       "    <tr>\n",
       "      <th>414</th>\n",
       "      <td>2</td>\n",
       "      <td>1</td>\n",
       "      <td>1</td>\n",
       "      <td>2</td>\n",
       "      <td>2</td>\n",
       "      <td>4</td>\n",
       "      <td>4</td>\n",
       "      <td>4</td>\n",
       "      <td>5</td>\n",
       "      <td>4</td>\n",
       "      <td>1</td>\n",
       "    </tr>\n",
       "    <tr>\n",
       "      <th>906</th>\n",
       "      <td>4</td>\n",
       "      <td>1</td>\n",
       "      <td>3</td>\n",
       "      <td>3</td>\n",
       "      <td>1</td>\n",
       "      <td>2</td>\n",
       "      <td>4</td>\n",
       "      <td>4</td>\n",
       "      <td>4</td>\n",
       "      <td>5</td>\n",
       "      <td>5</td>\n",
       "    </tr>\n",
       "    <tr>\n",
       "      <th>1683</th>\n",
       "      <td>4</td>\n",
       "      <td>4</td>\n",
       "      <td>3</td>\n",
       "      <td>5</td>\n",
       "      <td>5</td>\n",
       "      <td>3</td>\n",
       "      <td>2</td>\n",
       "      <td>3</td>\n",
       "      <td>1</td>\n",
       "      <td>1</td>\n",
       "      <td>3</td>\n",
       "    </tr>\n",
       "    <tr>\n",
       "      <th>1471</th>\n",
       "      <td>1</td>\n",
       "      <td>1</td>\n",
       "      <td>1</td>\n",
       "      <td>1</td>\n",
       "      <td>2</td>\n",
       "      <td>5</td>\n",
       "      <td>5</td>\n",
       "      <td>4</td>\n",
       "      <td>4</td>\n",
       "      <td>5</td>\n",
       "      <td>3</td>\n",
       "    </tr>\n",
       "    <tr>\n",
       "      <th>1281</th>\n",
       "      <td>2</td>\n",
       "      <td>1</td>\n",
       "      <td>1</td>\n",
       "      <td>1</td>\n",
       "      <td>2</td>\n",
       "      <td>4</td>\n",
       "      <td>5</td>\n",
       "      <td>5</td>\n",
       "      <td>5</td>\n",
       "      <td>5</td>\n",
       "      <td>4</td>\n",
       "    </tr>\n",
       "  </tbody>\n",
       "</table>\n",
       "</div>"
      ],
      "text/plain": [
       "      Fruits and vegetables  Whole grains  Legumes  Nuts and seeds  \\\n",
       "414                       2             1        1               2   \n",
       "906                       4             1        3               3   \n",
       "1683                      4             4        3               5   \n",
       "1471                      1             1        1               1   \n",
       "1281                      2             1        1               1   \n",
       "\n",
       "      Fish and poultry  Processed meats  Red meat  Refined grains  \\\n",
       "414                  2                4         4               4   \n",
       "906                  1                2         4               4   \n",
       "1683                 5                3         2               3   \n",
       "1471                 2                5         5               4   \n",
       "1281                 2                4         5               5   \n",
       "\n",
       "      Sugary drinks  High-fat dairy  Smoking  \n",
       "414               5               4        1  \n",
       "906               4               5        5  \n",
       "1683              1               1        3  \n",
       "1471              4               5        3  \n",
       "1281              5               5        4  "
      ]
     },
     "execution_count": 12,
     "metadata": {},
     "output_type": "execute_result"
    }
   ],
   "source": [
    "X_train.head()"
   ]
  },
  {
   "cell_type": "code",
   "execution_count": 13,
   "id": "5aa964c5-fea2-403d-be9f-3332a6bf9403",
   "metadata": {},
   "outputs": [
    {
     "data": {
      "text/html": [
       "<div>\n",
       "<style scoped>\n",
       "    .dataframe tbody tr th:only-of-type {\n",
       "        vertical-align: middle;\n",
       "    }\n",
       "\n",
       "    .dataframe tbody tr th {\n",
       "        vertical-align: top;\n",
       "    }\n",
       "\n",
       "    .dataframe thead th {\n",
       "        text-align: right;\n",
       "    }\n",
       "</style>\n",
       "<table border=\"1\" class=\"dataframe\">\n",
       "  <thead>\n",
       "    <tr style=\"text-align: right;\">\n",
       "      <th></th>\n",
       "      <th>Fruits and vegetables</th>\n",
       "      <th>Whole grains</th>\n",
       "      <th>Legumes</th>\n",
       "      <th>Nuts and seeds</th>\n",
       "      <th>Fish and poultry</th>\n",
       "      <th>Processed meats</th>\n",
       "      <th>Red meat</th>\n",
       "      <th>Refined grains</th>\n",
       "      <th>Sugary drinks</th>\n",
       "      <th>High-fat dairy</th>\n",
       "      <th>Smoking</th>\n",
       "    </tr>\n",
       "  </thead>\n",
       "  <tbody>\n",
       "    <tr>\n",
       "      <th>29</th>\n",
       "      <td>2</td>\n",
       "      <td>3</td>\n",
       "      <td>4</td>\n",
       "      <td>3</td>\n",
       "      <td>2</td>\n",
       "      <td>3</td>\n",
       "      <td>3</td>\n",
       "      <td>3</td>\n",
       "      <td>2</td>\n",
       "      <td>3</td>\n",
       "      <td>3</td>\n",
       "    </tr>\n",
       "    <tr>\n",
       "      <th>845</th>\n",
       "      <td>1</td>\n",
       "      <td>1</td>\n",
       "      <td>2</td>\n",
       "      <td>1</td>\n",
       "      <td>1</td>\n",
       "      <td>4</td>\n",
       "      <td>5</td>\n",
       "      <td>5</td>\n",
       "      <td>4</td>\n",
       "      <td>4</td>\n",
       "      <td>1</td>\n",
       "    </tr>\n",
       "    <tr>\n",
       "      <th>812</th>\n",
       "      <td>3</td>\n",
       "      <td>5</td>\n",
       "      <td>3</td>\n",
       "      <td>2</td>\n",
       "      <td>2</td>\n",
       "      <td>3</td>\n",
       "      <td>2</td>\n",
       "      <td>5</td>\n",
       "      <td>4</td>\n",
       "      <td>4</td>\n",
       "      <td>1</td>\n",
       "    </tr>\n",
       "    <tr>\n",
       "      <th>432</th>\n",
       "      <td>2</td>\n",
       "      <td>2</td>\n",
       "      <td>1</td>\n",
       "      <td>1</td>\n",
       "      <td>2</td>\n",
       "      <td>4</td>\n",
       "      <td>4</td>\n",
       "      <td>4</td>\n",
       "      <td>5</td>\n",
       "      <td>4</td>\n",
       "      <td>5</td>\n",
       "    </tr>\n",
       "    <tr>\n",
       "      <th>1383</th>\n",
       "      <td>1</td>\n",
       "      <td>5</td>\n",
       "      <td>3</td>\n",
       "      <td>3</td>\n",
       "      <td>1</td>\n",
       "      <td>1</td>\n",
       "      <td>2</td>\n",
       "      <td>5</td>\n",
       "      <td>1</td>\n",
       "      <td>2</td>\n",
       "      <td>2</td>\n",
       "    </tr>\n",
       "  </tbody>\n",
       "</table>\n",
       "</div>"
      ],
      "text/plain": [
       "      Fruits and vegetables  Whole grains  Legumes  Nuts and seeds  \\\n",
       "29                        2             3        4               3   \n",
       "845                       1             1        2               1   \n",
       "812                       3             5        3               2   \n",
       "432                       2             2        1               1   \n",
       "1383                      1             5        3               3   \n",
       "\n",
       "      Fish and poultry  Processed meats  Red meat  Refined grains  \\\n",
       "29                   2                3         3               3   \n",
       "845                  1                4         5               5   \n",
       "812                  2                3         2               5   \n",
       "432                  2                4         4               4   \n",
       "1383                 1                1         2               5   \n",
       "\n",
       "      Sugary drinks  High-fat dairy  Smoking  \n",
       "29                2               3        3  \n",
       "845               4               4        1  \n",
       "812               4               4        1  \n",
       "432               5               4        5  \n",
       "1383              1               2        2  "
      ]
     },
     "execution_count": 13,
     "metadata": {},
     "output_type": "execute_result"
    }
   ],
   "source": [
    "X_test.head()"
   ]
  },
  {
   "cell_type": "code",
   "execution_count": 14,
   "id": "58ed4d1d-dd3b-4dfe-b954-bc71a7c12d38",
   "metadata": {},
   "outputs": [
    {
     "name": "stdout",
     "output_type": "stream",
     "text": [
      "Model accuracy score with 10 decision-trees : 1.0000\n"
     ]
    }
   ],
   "source": [
    "# import Random Forest classifier\n",
    "\n",
    "from sklearn.ensemble import RandomForestClassifier\n",
    "\n",
    "# instantiate the classifier \n",
    "\n",
    "rfc = RandomForestClassifier(n_estimators=10, random_state=0)\n",
    "\n",
    "# fit the model\n",
    "\n",
    "rfc.fit(X_train, y_train)\n",
    "\n",
    "# Predict the Test set results\n",
    "\n",
    "y_pred = rfc.predict(X_test)\n",
    "\n",
    "# Check accuracy score \n",
    "\n",
    "from sklearn.metrics import accuracy_score\n",
    "\n",
    "print('Model accuracy score with 10 decision-trees : {0:0.4f}'. format(accuracy_score(y_test, y_pred)))"
   ]
  },
  {
   "cell_type": "code",
   "execution_count": 15,
   "id": "5f4eda16-b3f4-49e5-844f-565d5c23c5a7",
   "metadata": {},
   "outputs": [
    {
     "name": "stdout",
     "output_type": "stream",
     "text": [
      "              precision    recall  f1-score   support\n",
      "\n",
      "          no       1.00      1.00      1.00       233\n",
      "         yes       1.00      1.00      1.00       187\n",
      "\n",
      "    accuracy                           1.00       420\n",
      "   macro avg       1.00      1.00      1.00       420\n",
      "weighted avg       1.00      1.00      1.00       420\n",
      "\n"
     ]
    }
   ],
   "source": [
    "from sklearn.metrics import classification_report\n",
    "\n",
    "print(classification_report(y_test, y_pred))"
   ]
  },
  {
   "cell_type": "code",
   "execution_count": null,
   "id": "dd8e4553-02f6-4743-810e-bc80c76fd69c",
   "metadata": {},
   "outputs": [],
   "source": []
  }
 ],
 "metadata": {
  "kernelspec": {
   "display_name": "Python 3 (ipykernel)",
   "language": "python",
   "name": "python3"
  },
  "language_info": {
   "codemirror_mode": {
    "name": "ipython",
    "version": 3
   },
   "file_extension": ".py",
   "mimetype": "text/x-python",
   "name": "python",
   "nbconvert_exporter": "python",
   "pygments_lexer": "ipython3",
   "version": "3.12.3"
  }
 },
 "nbformat": 4,
 "nbformat_minor": 5
}
