{
 "cells": [
  {
   "cell_type": "code",
   "execution_count": 2,
   "id": "ed2f1115-f384-4044-92e8-74ad4430b858",
   "metadata": {},
   "outputs": [],
   "source": [
    "# Standard operational package imports.\n",
    "import numpy as np\n",
    "import pandas as pd\n",
    "\n",
    "# Important imports for preprocessing, modeling, and evaluation.\n",
    "from sklearn.preprocessing import OneHotEncoder\n",
    "from sklearn.model_selection import train_test_split\n",
    "from sklearn.linear_model import LogisticRegression\n",
    "import sklearn.metrics as metrics\n",
    "\n",
    "# Visualization package imports.\n",
    "import matplotlib.pyplot as plt\n",
    "import seaborn as sns\n",
    "\n",
    "from sklearn.metrics import precision_score, recall_score, f1_score, accuracy_score"
   ]
  },
  {
   "cell_type": "code",
   "execution_count": 4,
   "id": "46bcee1b-dd87-4f81-96d0-518163b14384",
   "metadata": {},
   "outputs": [],
   "source": [
    "df = pd.read_csv('dietary_patterns_cancer.csv')"
   ]
  },
  {
   "cell_type": "code",
   "execution_count": 6,
   "id": "5eac8209-f77c-498e-aaa3-decdd8b56d17",
   "metadata": {},
   "outputs": [
    {
     "data": {
      "text/html": [
       "<div>\n",
       "<style scoped>\n",
       "    .dataframe tbody tr th:only-of-type {\n",
       "        vertical-align: middle;\n",
       "    }\n",
       "\n",
       "    .dataframe tbody tr th {\n",
       "        vertical-align: top;\n",
       "    }\n",
       "\n",
       "    .dataframe thead th {\n",
       "        text-align: right;\n",
       "    }\n",
       "</style>\n",
       "<table border=\"1\" class=\"dataframe\">\n",
       "  <thead>\n",
       "    <tr style=\"text-align: right;\">\n",
       "      <th></th>\n",
       "      <th>Fruits and vegetables</th>\n",
       "      <th>Whole grains</th>\n",
       "      <th>Legumes</th>\n",
       "      <th>Nuts and seeds</th>\n",
       "      <th>Fish and poultry</th>\n",
       "      <th>Processed meats</th>\n",
       "      <th>Red meat</th>\n",
       "      <th>Refined grains</th>\n",
       "      <th>Sugary drinks</th>\n",
       "      <th>High-fat dairy</th>\n",
       "      <th>Smoking</th>\n",
       "      <th>Prostate cancer</th>\n",
       "    </tr>\n",
       "  </thead>\n",
       "  <tbody>\n",
       "    <tr>\n",
       "      <th>0</th>\n",
       "      <td>1</td>\n",
       "      <td>1</td>\n",
       "      <td>2</td>\n",
       "      <td>2</td>\n",
       "      <td>1</td>\n",
       "      <td>4</td>\n",
       "      <td>5</td>\n",
       "      <td>4</td>\n",
       "      <td>4</td>\n",
       "      <td>5</td>\n",
       "      <td>4</td>\n",
       "      <td>yes</td>\n",
       "    </tr>\n",
       "    <tr>\n",
       "      <th>1</th>\n",
       "      <td>1</td>\n",
       "      <td>2</td>\n",
       "      <td>2</td>\n",
       "      <td>2</td>\n",
       "      <td>1</td>\n",
       "      <td>5</td>\n",
       "      <td>5</td>\n",
       "      <td>4</td>\n",
       "      <td>5</td>\n",
       "      <td>5</td>\n",
       "      <td>4</td>\n",
       "      <td>yes</td>\n",
       "    </tr>\n",
       "    <tr>\n",
       "      <th>2</th>\n",
       "      <td>5</td>\n",
       "      <td>2</td>\n",
       "      <td>2</td>\n",
       "      <td>1</td>\n",
       "      <td>2</td>\n",
       "      <td>4</td>\n",
       "      <td>1</td>\n",
       "      <td>5</td>\n",
       "      <td>4</td>\n",
       "      <td>3</td>\n",
       "      <td>5</td>\n",
       "      <td>no</td>\n",
       "    </tr>\n",
       "    <tr>\n",
       "      <th>3</th>\n",
       "      <td>4</td>\n",
       "      <td>3</td>\n",
       "      <td>1</td>\n",
       "      <td>3</td>\n",
       "      <td>1</td>\n",
       "      <td>2</td>\n",
       "      <td>3</td>\n",
       "      <td>4</td>\n",
       "      <td>1</td>\n",
       "      <td>1</td>\n",
       "      <td>1</td>\n",
       "      <td>no</td>\n",
       "    </tr>\n",
       "    <tr>\n",
       "      <th>4</th>\n",
       "      <td>2</td>\n",
       "      <td>1</td>\n",
       "      <td>2</td>\n",
       "      <td>2</td>\n",
       "      <td>2</td>\n",
       "      <td>5</td>\n",
       "      <td>5</td>\n",
       "      <td>4</td>\n",
       "      <td>4</td>\n",
       "      <td>5</td>\n",
       "      <td>3</td>\n",
       "      <td>yes</td>\n",
       "    </tr>\n",
       "  </tbody>\n",
       "</table>\n",
       "</div>"
      ],
      "text/plain": [
       "   Fruits and vegetables  Whole grains  Legumes  Nuts and seeds  \\\n",
       "0                      1             1        2               2   \n",
       "1                      1             2        2               2   \n",
       "2                      5             2        2               1   \n",
       "3                      4             3        1               3   \n",
       "4                      2             1        2               2   \n",
       "\n",
       "   Fish and poultry  Processed meats  Red meat  Refined grains  Sugary drinks  \\\n",
       "0                 1                4         5               4              4   \n",
       "1                 1                5         5               4              5   \n",
       "2                 2                4         1               5              4   \n",
       "3                 1                2         3               4              1   \n",
       "4                 2                5         5               4              4   \n",
       "\n",
       "   High-fat dairy  Smoking Prostate cancer  \n",
       "0               5        4             yes  \n",
       "1               5        4             yes  \n",
       "2               3        5              no  \n",
       "3               1        1              no  \n",
       "4               5        3             yes  "
      ]
     },
     "execution_count": 6,
     "metadata": {},
     "output_type": "execute_result"
    }
   ],
   "source": [
    "df.head()"
   ]
  },
  {
   "cell_type": "code",
   "execution_count": 8,
   "id": "5b197848-2e31-46f3-b54a-adc5fc83ab60",
   "metadata": {},
   "outputs": [
    {
     "name": "stdout",
     "output_type": "stream",
     "text": [
      "<class 'pandas.core.frame.DataFrame'>\n",
      "RangeIndex: 2096 entries, 0 to 2095\n",
      "Data columns (total 12 columns):\n",
      " #   Column                 Non-Null Count  Dtype \n",
      "---  ------                 --------------  ----- \n",
      " 0   Fruits and vegetables  2096 non-null   int64 \n",
      " 1   Whole grains           2096 non-null   int64 \n",
      " 2   Legumes                2096 non-null   int64 \n",
      " 3   Nuts and seeds         2096 non-null   int64 \n",
      " 4   Fish and poultry       2096 non-null   int64 \n",
      " 5   Processed meats        2096 non-null   int64 \n",
      " 6   Red meat               2096 non-null   int64 \n",
      " 7   Refined grains         2096 non-null   int64 \n",
      " 8   Sugary drinks          2096 non-null   int64 \n",
      " 9   High-fat dairy         2096 non-null   int64 \n",
      " 10  Smoking                2096 non-null   int64 \n",
      " 11  Prostate cancer        2096 non-null   object\n",
      "dtypes: int64(11), object(1)\n",
      "memory usage: 196.6+ KB\n"
     ]
    }
   ],
   "source": [
    "df.info()"
   ]
  },
  {
   "cell_type": "code",
   "execution_count": 10,
   "id": "48650839-b870-48b2-a69f-fdbedae4e171",
   "metadata": {},
   "outputs": [
    {
     "data": {
      "text/plain": [
       "(2096, 12)"
      ]
     },
     "execution_count": 10,
     "metadata": {},
     "output_type": "execute_result"
    }
   ],
   "source": [
    "df.shape"
   ]
  },
  {
   "cell_type": "code",
   "execution_count": 12,
   "id": "4977e16b-fffe-4a42-b049-034c22881541",
   "metadata": {},
   "outputs": [],
   "source": [
    "#Drop rows containing null values "
   ]
  },
  {
   "cell_type": "code",
   "execution_count": 14,
   "id": "c88e47f5-7789-4c5d-9511-4979c2d88dd9",
   "metadata": {},
   "outputs": [],
   "source": [
    "df = df.dropna(axis=0).reset_index(drop = True)"
   ]
  },
  {
   "cell_type": "code",
   "execution_count": 16,
   "id": "02e20451-b18d-4f45-9bcb-5116f0b24380",
   "metadata": {},
   "outputs": [
    {
     "data": {
      "text/plain": [
       "Fruits and vegetables    0\n",
       "Whole grains             0\n",
       "Legumes                  0\n",
       "Nuts and seeds           0\n",
       "Fish and poultry         0\n",
       "Processed meats          0\n",
       "Red meat                 0\n",
       "Refined grains           0\n",
       "Sugary drinks            0\n",
       "High-fat dairy           0\n",
       "Smoking                  0\n",
       "Prostate cancer          0\n",
       "dtype: int64"
      ]
     },
     "execution_count": 16,
     "metadata": {},
     "output_type": "execute_result"
    }
   ],
   "source": [
    "df.isna().sum().sort_values(ascending=False)"
   ]
  },
  {
   "cell_type": "code",
   "execution_count": 18,
   "id": "b9083304-60b2-4b20-a86d-282e3865cb62",
   "metadata": {},
   "outputs": [],
   "source": [
    "X = df.drop(['Prostate cancer'], axis=1)\n",
    "\n",
    "y = df['Prostate cancer']"
   ]
  },
  {
   "cell_type": "code",
   "execution_count": 20,
   "id": "9e30a6b0-8cf0-4fd2-b30f-7f47fa689be4",
   "metadata": {},
   "outputs": [],
   "source": [
    "X_train, X_test, y_train, y_test = train_test_split(X, y, test_size = 0.3, random_state = 42)"
   ]
  },
  {
   "cell_type": "code",
   "execution_count": 22,
   "id": "3c485460-37d4-4f7c-91b6-fd0e712bf658",
   "metadata": {},
   "outputs": [
    {
     "data": {
      "text/plain": [
       "((1467, 11), (629, 11))"
      ]
     },
     "execution_count": 22,
     "metadata": {},
     "output_type": "execute_result"
    }
   ],
   "source": [
    "X_train.shape, X_test.shape"
   ]
  },
  {
   "cell_type": "code",
   "execution_count": 24,
   "id": "f3afc0f2-5ac8-4e4a-87b6-b29b6eeb1f90",
   "metadata": {},
   "outputs": [],
   "source": [
    "#Feature Engineering"
   ]
  },
  {
   "cell_type": "code",
   "execution_count": 26,
   "id": "0b53e668-2105-4849-bccc-b7e81b8894b0",
   "metadata": {},
   "outputs": [
    {
     "data": {
      "text/plain": [
       "Fruits and vegetables    int64\n",
       "Whole grains             int64\n",
       "Legumes                  int64\n",
       "Nuts and seeds           int64\n",
       "Fish and poultry         int64\n",
       "Processed meats          int64\n",
       "Red meat                 int64\n",
       "Refined grains           int64\n",
       "Sugary drinks            int64\n",
       "High-fat dairy           int64\n",
       "Smoking                  int64\n",
       "dtype: object"
      ]
     },
     "execution_count": 26,
     "metadata": {},
     "output_type": "execute_result"
    }
   ],
   "source": [
    "X_train.dtypes"
   ]
  },
  {
   "cell_type": "code",
   "execution_count": 28,
   "id": "ffa59741-87df-41ec-a980-68aa0eee722e",
   "metadata": {},
   "outputs": [
    {
     "data": {
      "text/html": [
       "<div>\n",
       "<style scoped>\n",
       "    .dataframe tbody tr th:only-of-type {\n",
       "        vertical-align: middle;\n",
       "    }\n",
       "\n",
       "    .dataframe tbody tr th {\n",
       "        vertical-align: top;\n",
       "    }\n",
       "\n",
       "    .dataframe thead th {\n",
       "        text-align: right;\n",
       "    }\n",
       "</style>\n",
       "<table border=\"1\" class=\"dataframe\">\n",
       "  <thead>\n",
       "    <tr style=\"text-align: right;\">\n",
       "      <th></th>\n",
       "      <th>Fruits and vegetables</th>\n",
       "      <th>Whole grains</th>\n",
       "      <th>Legumes</th>\n",
       "      <th>Nuts and seeds</th>\n",
       "      <th>Fish and poultry</th>\n",
       "      <th>Processed meats</th>\n",
       "      <th>Red meat</th>\n",
       "      <th>Refined grains</th>\n",
       "      <th>Sugary drinks</th>\n",
       "      <th>High-fat dairy</th>\n",
       "      <th>Smoking</th>\n",
       "    </tr>\n",
       "  </thead>\n",
       "  <tbody>\n",
       "    <tr>\n",
       "      <th>939</th>\n",
       "      <td>4</td>\n",
       "      <td>5</td>\n",
       "      <td>1</td>\n",
       "      <td>4</td>\n",
       "      <td>2</td>\n",
       "      <td>4</td>\n",
       "      <td>2</td>\n",
       "      <td>4</td>\n",
       "      <td>3</td>\n",
       "      <td>2</td>\n",
       "      <td>3</td>\n",
       "    </tr>\n",
       "    <tr>\n",
       "      <th>199</th>\n",
       "      <td>3</td>\n",
       "      <td>3</td>\n",
       "      <td>5</td>\n",
       "      <td>3</td>\n",
       "      <td>3</td>\n",
       "      <td>5</td>\n",
       "      <td>3</td>\n",
       "      <td>1</td>\n",
       "      <td>1</td>\n",
       "      <td>1</td>\n",
       "      <td>5</td>\n",
       "    </tr>\n",
       "    <tr>\n",
       "      <th>1299</th>\n",
       "      <td>1</td>\n",
       "      <td>1</td>\n",
       "      <td>1</td>\n",
       "      <td>1</td>\n",
       "      <td>1</td>\n",
       "      <td>4</td>\n",
       "      <td>5</td>\n",
       "      <td>5</td>\n",
       "      <td>4</td>\n",
       "      <td>5</td>\n",
       "      <td>5</td>\n",
       "    </tr>\n",
       "    <tr>\n",
       "      <th>1301</th>\n",
       "      <td>5</td>\n",
       "      <td>3</td>\n",
       "      <td>1</td>\n",
       "      <td>3</td>\n",
       "      <td>1</td>\n",
       "      <td>2</td>\n",
       "      <td>4</td>\n",
       "      <td>4</td>\n",
       "      <td>5</td>\n",
       "      <td>1</td>\n",
       "      <td>2</td>\n",
       "    </tr>\n",
       "    <tr>\n",
       "      <th>1221</th>\n",
       "      <td>2</td>\n",
       "      <td>4</td>\n",
       "      <td>3</td>\n",
       "      <td>4</td>\n",
       "      <td>3</td>\n",
       "      <td>5</td>\n",
       "      <td>4</td>\n",
       "      <td>3</td>\n",
       "      <td>4</td>\n",
       "      <td>1</td>\n",
       "      <td>4</td>\n",
       "    </tr>\n",
       "  </tbody>\n",
       "</table>\n",
       "</div>"
      ],
      "text/plain": [
       "      Fruits and vegetables  Whole grains  Legumes  Nuts and seeds  \\\n",
       "939                       4             5        1               4   \n",
       "199                       3             3        5               3   \n",
       "1299                      1             1        1               1   \n",
       "1301                      5             3        1               3   \n",
       "1221                      2             4        3               4   \n",
       "\n",
       "      Fish and poultry  Processed meats  Red meat  Refined grains  \\\n",
       "939                  2                4         2               4   \n",
       "199                  3                5         3               1   \n",
       "1299                 1                4         5               5   \n",
       "1301                 1                2         4               4   \n",
       "1221                 3                5         4               3   \n",
       "\n",
       "      Sugary drinks  High-fat dairy  Smoking  \n",
       "939               3               2        3  \n",
       "199               1               1        5  \n",
       "1299              4               5        5  \n",
       "1301              5               1        2  \n",
       "1221              4               1        4  "
      ]
     },
     "execution_count": 28,
     "metadata": {},
     "output_type": "execute_result"
    }
   ],
   "source": [
    "X_train.head()"
   ]
  },
  {
   "cell_type": "code",
   "execution_count": 30,
   "id": "19adb366-3634-48d5-8825-ef3346dc008c",
   "metadata": {},
   "outputs": [
    {
     "data": {
      "text/html": [
       "<div>\n",
       "<style scoped>\n",
       "    .dataframe tbody tr th:only-of-type {\n",
       "        vertical-align: middle;\n",
       "    }\n",
       "\n",
       "    .dataframe tbody tr th {\n",
       "        vertical-align: top;\n",
       "    }\n",
       "\n",
       "    .dataframe thead th {\n",
       "        text-align: right;\n",
       "    }\n",
       "</style>\n",
       "<table border=\"1\" class=\"dataframe\">\n",
       "  <thead>\n",
       "    <tr style=\"text-align: right;\">\n",
       "      <th></th>\n",
       "      <th>Fruits and vegetables</th>\n",
       "      <th>Whole grains</th>\n",
       "      <th>Legumes</th>\n",
       "      <th>Nuts and seeds</th>\n",
       "      <th>Fish and poultry</th>\n",
       "      <th>Processed meats</th>\n",
       "      <th>Red meat</th>\n",
       "      <th>Refined grains</th>\n",
       "      <th>Sugary drinks</th>\n",
       "      <th>High-fat dairy</th>\n",
       "      <th>Smoking</th>\n",
       "    </tr>\n",
       "  </thead>\n",
       "  <tbody>\n",
       "    <tr>\n",
       "      <th>29</th>\n",
       "      <td>2</td>\n",
       "      <td>3</td>\n",
       "      <td>4</td>\n",
       "      <td>3</td>\n",
       "      <td>2</td>\n",
       "      <td>3</td>\n",
       "      <td>3</td>\n",
       "      <td>3</td>\n",
       "      <td>2</td>\n",
       "      <td>3</td>\n",
       "      <td>3</td>\n",
       "    </tr>\n",
       "    <tr>\n",
       "      <th>845</th>\n",
       "      <td>1</td>\n",
       "      <td>1</td>\n",
       "      <td>2</td>\n",
       "      <td>1</td>\n",
       "      <td>1</td>\n",
       "      <td>4</td>\n",
       "      <td>5</td>\n",
       "      <td>5</td>\n",
       "      <td>4</td>\n",
       "      <td>4</td>\n",
       "      <td>1</td>\n",
       "    </tr>\n",
       "    <tr>\n",
       "      <th>812</th>\n",
       "      <td>3</td>\n",
       "      <td>5</td>\n",
       "      <td>3</td>\n",
       "      <td>2</td>\n",
       "      <td>2</td>\n",
       "      <td>3</td>\n",
       "      <td>2</td>\n",
       "      <td>5</td>\n",
       "      <td>4</td>\n",
       "      <td>4</td>\n",
       "      <td>1</td>\n",
       "    </tr>\n",
       "    <tr>\n",
       "      <th>432</th>\n",
       "      <td>2</td>\n",
       "      <td>2</td>\n",
       "      <td>1</td>\n",
       "      <td>1</td>\n",
       "      <td>2</td>\n",
       "      <td>4</td>\n",
       "      <td>4</td>\n",
       "      <td>4</td>\n",
       "      <td>5</td>\n",
       "      <td>4</td>\n",
       "      <td>5</td>\n",
       "    </tr>\n",
       "    <tr>\n",
       "      <th>1383</th>\n",
       "      <td>1</td>\n",
       "      <td>5</td>\n",
       "      <td>3</td>\n",
       "      <td>3</td>\n",
       "      <td>1</td>\n",
       "      <td>1</td>\n",
       "      <td>2</td>\n",
       "      <td>5</td>\n",
       "      <td>1</td>\n",
       "      <td>2</td>\n",
       "      <td>2</td>\n",
       "    </tr>\n",
       "  </tbody>\n",
       "</table>\n",
       "</div>"
      ],
      "text/plain": [
       "      Fruits and vegetables  Whole grains  Legumes  Nuts and seeds  \\\n",
       "29                        2             3        4               3   \n",
       "845                       1             1        2               1   \n",
       "812                       3             5        3               2   \n",
       "432                       2             2        1               1   \n",
       "1383                      1             5        3               3   \n",
       "\n",
       "      Fish and poultry  Processed meats  Red meat  Refined grains  \\\n",
       "29                   2                3         3               3   \n",
       "845                  1                4         5               5   \n",
       "812                  2                3         2               5   \n",
       "432                  2                4         4               4   \n",
       "1383                 1                1         2               5   \n",
       "\n",
       "      Sugary drinks  High-fat dairy  Smoking  \n",
       "29                2               3        3  \n",
       "845               4               4        1  \n",
       "812               4               4        1  \n",
       "432               5               4        5  \n",
       "1383              1               2        2  "
      ]
     },
     "execution_count": 30,
     "metadata": {},
     "output_type": "execute_result"
    }
   ],
   "source": [
    "X_test.head()"
   ]
  },
  {
   "cell_type": "code",
   "execution_count": 32,
   "id": "3f34c12b-fee9-476a-b707-a222484b8df3",
   "metadata": {},
   "outputs": [],
   "source": [
    "clf = LogisticRegression(solver='liblinear', max_iter=200).fit(X_train, y_train)"
   ]
  },
  {
   "cell_type": "code",
   "execution_count": 34,
   "id": "4aa7741f-e841-4646-a589-68efd29bfe77",
   "metadata": {},
   "outputs": [
    {
     "data": {
      "text/plain": [
       "array([[-1.73734663, -1.34639135, -0.91417523, -2.02870748, -1.19218975,\n",
       "         0.89246533,  0.51173985,  0.68386801,  0.95546506,  1.02266823,\n",
       "        -0.11307739]])"
      ]
     },
     "execution_count": 34,
     "metadata": {},
     "output_type": "execute_result"
    }
   ],
   "source": [
    "clf.coef_"
   ]
  },
  {
   "cell_type": "code",
   "execution_count": 36,
   "id": "68021679-a8b7-4013-a513-34693d4a40e9",
   "metadata": {},
   "outputs": [
    {
     "data": {
      "text/plain": [
       "array([-1.60650377])"
      ]
     },
     "execution_count": 36,
     "metadata": {},
     "output_type": "execute_result"
    }
   ],
   "source": [
    "clf.intercept_"
   ]
  },
  {
   "cell_type": "code",
   "execution_count": 38,
   "id": "5bd709ab-d6f2-4ce3-8312-d67c43121c18",
   "metadata": {},
   "outputs": [],
   "source": [
    "#Evaluating the model"
   ]
  },
  {
   "cell_type": "code",
   "execution_count": 40,
   "id": "c2214301-fed2-42e2-ab34-dd286b5ad2f4",
   "metadata": {},
   "outputs": [],
   "source": [
    "y_pred = clf.predict(X_test)"
   ]
  },
  {
   "cell_type": "code",
   "execution_count": 42,
   "id": "2952ff15-2235-4efe-96a1-2d016d319448",
   "metadata": {},
   "outputs": [
    {
     "name": "stdout",
     "output_type": "stream",
     "text": [
      "Accuracy: 0.990461\n",
      "Precision: 0.990066\n",
      "Recall: 0.990991\n",
      "F1 Score: 0.990438\n"
     ]
    }
   ],
   "source": [
    "from sklearn import metrics\n",
    "\n",
    "print(\"Accuracy:\", \"%.6f\" % metrics.accuracy_score(y_test, y_pred))\n",
    "print(\"Precision:\", \"%.6f\" % metrics.precision_score(y_test, y_pred, average='macro'))\n",
    "print(\"Recall:\", \"%.6f\" % metrics.recall_score(y_test, y_pred, average='macro'))\n",
    "print(\"F1 Score:\", \"%.6f\" % metrics.f1_score(y_test, y_pred, average='macro'))"
   ]
  },
  {
   "cell_type": "code",
   "execution_count": 44,
   "id": "f46c3478-628f-4970-b860-6c4bacd8fc1c",
   "metadata": {},
   "outputs": [],
   "source": [
    "accuracy = accuracy_score(y_test, y_pred)\n",
    "precision = precision_score(y_test, y_pred, average='macro')\n",
    "recall = recall_score(y_test, y_pred, average='macro')\n",
    "f1 = f1_score(y_test, y_pred, average='macro')\n",
    "\n",
    "\n",
    "scores = {\n",
    "    'Accuracy': accuracy,\n",
    "    'Precision': precision,\n",
    "    'Recall': recall,\n",
    "    'F1-Score': f1\n",
    "}"
   ]
  },
  {
   "cell_type": "code",
   "execution_count": 46,
   "id": "b17fead8-01ff-41cb-90a1-7fe955f7066f",
   "metadata": {},
   "outputs": [
    {
     "data": {
      "image/png": "[encoded data removed]",
      "text/plain": [
       "<Figure size 800x600 with 1 Axes>"
      ]
     },
     "metadata": {},
     "output_type": "display_data"
    }
   ],
   "source": [
    "#showing the result of precision_score, recall_score, f1_score, accuracy_score in Bar Chart Form\n",
    "plt.figure(figsize=(8, 6))\n",
    "plt.bar(scores.keys(), scores.values())\n",
    "plt.title('Model Performance Metrics')\n",
    "plt.ylabel('Score')\n",
    "plt.ylim(0, 1)  # Assuming all scores are between 0 and 1\n",
    "\n",
    "for i, v in enumerate(scores.values()):\n",
    "    plt.text(i, v + 0.1, f'{v:.2f}', ha='center')\n",
    "\n",
    "plt.tight_layout()\n",
    "plt.show()"
   ]
  },
  {
   "cell_type": "code",
   "execution_count": null,
   "id": "18d0b2b8-afa8-4d49-91e1-6ea16df6104f",
   "metadata": {},
   "outputs": [],
   "source": []
  }
 ],
 "metadata": {
  "kernelspec": {
   "display_name": "Python 3 (ipykernel)",
   "language": "python",
   "name": "python3"
  },
  "language_info": {
   "codemirror_mode": {
    "name": "ipython",
    "version": 3
   },
   "file_extension": ".py",
   "mimetype": "text/x-python",
   "name": "python",
   "nbconvert_exporter": "python",
   "pygments_lexer": "ipython3",
   "version": "3.12.3"
  }
 },
 "nbformat": 4,
 "nbformat_minor": 5
}
