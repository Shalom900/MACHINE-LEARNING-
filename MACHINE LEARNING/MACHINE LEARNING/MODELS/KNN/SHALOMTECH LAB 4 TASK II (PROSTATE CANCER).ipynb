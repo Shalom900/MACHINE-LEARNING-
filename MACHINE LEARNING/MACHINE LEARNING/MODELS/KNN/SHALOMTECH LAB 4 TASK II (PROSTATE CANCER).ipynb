{
 "cells": [
  {
   "cell_type": "code",
   "execution_count": 1,
   "id": "ed86cecb-15af-4a0c-9346-17b9f3408c83",
   "metadata": {},
   "outputs": [],
   "source": [
    "import numpy as np\n",
    "import pandas as pd\n",
    "import matplotlib.pyplot as plt\n",
    "%matplotlib inline\n",
    "from sklearn import metrics\n",
    "from sklearn.neighbors import KNeighborsClassifier\n",
    "from sklearn.model_selection import train_test_split"
   ]
  },
  {
   "cell_type": "code",
   "execution_count": 2,
   "id": "6d997c63-fdb5-413b-a6d1-650260dcfd96",
   "metadata": {},
   "outputs": [],
   "source": [
    "import warnings\n",
    "warnings.filterwarnings(\"ignore\")"
   ]
  },
  {
   "cell_type": "code",
   "execution_count": 3,
   "id": "81c962fc-c0d0-4e2b-88e1-6cce3e287a49",
   "metadata": {},
   "outputs": [],
   "source": [
    "data = pd.read_csv('dietary_patterns_cancer.csv')"
   ]
  },
  {
   "cell_type": "code",
   "execution_count": 4,
   "id": "23870508-4a35-44f6-9a84-e46c3be91402",
   "metadata": {},
   "outputs": [
    {
     "data": {
      "text/html": [
       "<div>\n",
       "<style scoped>\n",
       "    .dataframe tbody tr th:only-of-type {\n",
       "        vertical-align: middle;\n",
       "    }\n",
       "\n",
       "    .dataframe tbody tr th {\n",
       "        vertical-align: top;\n",
       "    }\n",
       "\n",
       "    .dataframe thead th {\n",
       "        text-align: right;\n",
       "    }\n",
       "</style>\n",
       "<table border=\"1\" class=\"dataframe\">\n",
       "  <thead>\n",
       "    <tr style=\"text-align: right;\">\n",
       "      <th></th>\n",
       "      <th>Fruits and vegetables</th>\n",
       "      <th>Whole grains</th>\n",
       "      <th>Legumes</th>\n",
       "      <th>Nuts and seeds</th>\n",
       "      <th>Fish and poultry</th>\n",
       "      <th>Processed meats</th>\n",
       "      <th>Red meat</th>\n",
       "      <th>Refined grains</th>\n",
       "      <th>Sugary drinks</th>\n",
       "      <th>High-fat dairy</th>\n",
       "      <th>Smoking</th>\n",
       "      <th>Prostate cancer</th>\n",
       "    </tr>\n",
       "  </thead>\n",
       "  <tbody>\n",
       "    <tr>\n",
       "      <th>0</th>\n",
       "      <td>1</td>\n",
       "      <td>1</td>\n",
       "      <td>2</td>\n",
       "      <td>2</td>\n",
       "      <td>1</td>\n",
       "      <td>4</td>\n",
       "      <td>5</td>\n",
       "      <td>4</td>\n",
       "      <td>4</td>\n",
       "      <td>5</td>\n",
       "      <td>4</td>\n",
       "      <td>yes</td>\n",
       "    </tr>\n",
       "    <tr>\n",
       "      <th>1</th>\n",
       "      <td>1</td>\n",
       "      <td>2</td>\n",
       "      <td>2</td>\n",
       "      <td>2</td>\n",
       "      <td>1</td>\n",
       "      <td>5</td>\n",
       "      <td>5</td>\n",
       "      <td>4</td>\n",
       "      <td>5</td>\n",
       "      <td>5</td>\n",
       "      <td>4</td>\n",
       "      <td>yes</td>\n",
       "    </tr>\n",
       "    <tr>\n",
       "      <th>2</th>\n",
       "      <td>5</td>\n",
       "      <td>2</td>\n",
       "      <td>2</td>\n",
       "      <td>1</td>\n",
       "      <td>2</td>\n",
       "      <td>4</td>\n",
       "      <td>1</td>\n",
       "      <td>5</td>\n",
       "      <td>4</td>\n",
       "      <td>3</td>\n",
       "      <td>5</td>\n",
       "      <td>no</td>\n",
       "    </tr>\n",
       "    <tr>\n",
       "      <th>3</th>\n",
       "      <td>4</td>\n",
       "      <td>3</td>\n",
       "      <td>1</td>\n",
       "      <td>3</td>\n",
       "      <td>1</td>\n",
       "      <td>2</td>\n",
       "      <td>3</td>\n",
       "      <td>4</td>\n",
       "      <td>1</td>\n",
       "      <td>1</td>\n",
       "      <td>1</td>\n",
       "      <td>no</td>\n",
       "    </tr>\n",
       "    <tr>\n",
       "      <th>4</th>\n",
       "      <td>2</td>\n",
       "      <td>1</td>\n",
       "      <td>2</td>\n",
       "      <td>2</td>\n",
       "      <td>2</td>\n",
       "      <td>5</td>\n",
       "      <td>5</td>\n",
       "      <td>4</td>\n",
       "      <td>4</td>\n",
       "      <td>5</td>\n",
       "      <td>3</td>\n",
       "      <td>yes</td>\n",
       "    </tr>\n",
       "  </tbody>\n",
       "</table>\n",
       "</div>"
      ],
      "text/plain": [
       "   Fruits and vegetables  Whole grains  Legumes  Nuts and seeds  \\\n",
       "0                      1             1        2               2   \n",
       "1                      1             2        2               2   \n",
       "2                      5             2        2               1   \n",
       "3                      4             3        1               3   \n",
       "4                      2             1        2               2   \n",
       "\n",
       "   Fish and poultry  Processed meats  Red meat  Refined grains  Sugary drinks  \\\n",
       "0                 1                4         5               4              4   \n",
       "1                 1                5         5               4              5   \n",
       "2                 2                4         1               5              4   \n",
       "3                 1                2         3               4              1   \n",
       "4                 2                5         5               4              4   \n",
       "\n",
       "   High-fat dairy  Smoking Prostate cancer  \n",
       "0               5        4             yes  \n",
       "1               5        4             yes  \n",
       "2               3        5              no  \n",
       "3               1        1              no  \n",
       "4               5        3             yes  "
      ]
     },
     "execution_count": 4,
     "metadata": {},
     "output_type": "execute_result"
    }
   ],
   "source": [
    "data.head()"
   ]
  },
  {
   "cell_type": "code",
   "execution_count": 5,
   "id": "5cb559a5-c097-4250-9fa6-9ac57cb06699",
   "metadata": {},
   "outputs": [
    {
     "name": "stdout",
     "output_type": "stream",
     "text": [
      "<class 'pandas.core.frame.DataFrame'>\n",
      "RangeIndex: 2096 entries, 0 to 2095\n",
      "Data columns (total 12 columns):\n",
      " #   Column                 Non-Null Count  Dtype \n",
      "---  ------                 --------------  ----- \n",
      " 0   Fruits and vegetables  2096 non-null   int64 \n",
      " 1   Whole grains           2096 non-null   int64 \n",
      " 2   Legumes                2096 non-null   int64 \n",
      " 3   Nuts and seeds         2096 non-null   int64 \n",
      " 4   Fish and poultry       2096 non-null   int64 \n",
      " 5   Processed meats        2096 non-null   int64 \n",
      " 6   Red meat               2096 non-null   int64 \n",
      " 7   Refined grains         2096 non-null   int64 \n",
      " 8   Sugary drinks          2096 non-null   int64 \n",
      " 9   High-fat dairy         2096 non-null   int64 \n",
      " 10  Smoking                2096 non-null   int64 \n",
      " 11  Prostate cancer        2096 non-null   object\n",
      "dtypes: int64(11), object(1)\n",
      "memory usage: 196.6+ KB\n"
     ]
    }
   ],
   "source": [
    "data.info()"
   ]
  },
  {
   "cell_type": "code",
   "execution_count": 6,
   "id": "dc51fcc4-2e52-4003-866f-d8fab5639a2f",
   "metadata": {},
   "outputs": [
    {
     "data": {
      "text/plain": [
       "Prostate cancer\n",
       "no     1077\n",
       "yes    1019\n",
       "Name: count, dtype: int64"
      ]
     },
     "execution_count": 6,
     "metadata": {},
     "output_type": "execute_result"
    }
   ],
   "source": [
    "data['Prostate cancer'].value_counts()"
   ]
  },
  {
   "cell_type": "code",
   "execution_count": 7,
   "id": "f487d2b7-f1c2-464e-956b-a3818184ef8b",
   "metadata": {},
   "outputs": [
    {
     "name": "stdout",
     "output_type": "stream",
     "text": [
      "   Fruits and vegetables  Whole grains  Legumes  Nuts and seeds  \\\n",
      "0                      1             1        2               2   \n",
      "1                      1             2        2               2   \n",
      "2                      5             2        2               1   \n",
      "3                      4             3        1               3   \n",
      "4                      2             1        2               2   \n",
      "\n",
      "   Fish and poultry  Processed meats  Red meat  Refined grains  Sugary drinks  \\\n",
      "0                 1                4         5               4              4   \n",
      "1                 1                5         5               4              5   \n",
      "2                 2                4         1               5              4   \n",
      "3                 1                2         3               4              1   \n",
      "4                 2                5         5               4              4   \n",
      "\n",
      "   High-fat dairy  Smoking  \n",
      "0               5        4  \n",
      "1               5        4  \n",
      "2               3        5  \n",
      "3               1        1  \n",
      "4               5        3  \n",
      "(2096, 11)\n",
      "0    yes\n",
      "1    yes\n",
      "2     no\n",
      "3     no\n",
      "4    yes\n",
      "Name: Prostate cancer, dtype: object\n",
      "(2096,)\n"
     ]
    }
   ],
   "source": [
    "X = data.drop(['Prostate cancer'], axis=1)\n",
    "y = data['Prostate cancer']\n",
    "print(X.head())\n",
    "print(X.shape)\n",
    "print(y.head())\n",
    "print(y.shape)"
   ]
  },
  {
   "cell_type": "code",
   "execution_count": 8,
   "id": "751a22f9-9957-4e2f-95d9-b4f857605f6e",
   "metadata": {},
   "outputs": [
    {
     "name": "stdout",
     "output_type": "stream",
     "text": [
      "(1257, 11)\n",
      "(1257,)\n",
      "(839, 11)\n",
      "(839,)\n"
     ]
    }
   ],
   "source": [
    "X_train, X_test, y_train, y_test = train_test_split(X, y, test_size=0.4, random_state=5)\n",
    "print(X_train.shape)\n",
    "print(y_train.shape)\n",
    "print(X_test.shape)\n",
    "print(y_test.shape)"
   ]
  },
  {
   "cell_type": "code",
   "execution_count": 9,
   "id": "402fe4da-a399-4d70-9445-cea858c421d8",
   "metadata": {},
   "outputs": [
    {
     "data": {
      "image/png": "[encoded data removed]",
      "text/plain": [
       "<Figure size 640x480 with 1 Axes>"
      ]
     },
     "metadata": {},
     "output_type": "display_data"
    }
   ],
   "source": [
    "# experimenting with different n values\n",
    "k_range = list(range(1,26))\n",
    "scores = []\n",
    "for k in k_range:\n",
    "    knn = KNeighborsClassifier(n_neighbors=k)\n",
    "    knn.fit(X_train, y_train)\n",
    "    y_pred = knn.predict(X_test)\n",
    "    scores.append(metrics.accuracy_score(y_test, y_pred))\n",
    "    \n",
    "plt.plot(k_range, scores)\n",
    "plt.xlabel('Value of k for KNN')\n",
    "plt.ylabel('Accuracy Score')\n",
    "plt.title('Accuracy Scores for Values of k of k-Nearest-Neighbors')\n",
    "plt.show()\n",
    "\n"
   ]
  },
  {
   "cell_type": "code",
   "execution_count": 10,
   "id": "f50c584b-f9a0-4ced-8587-9925375ba305",
   "metadata": {},
   "outputs": [
    {
     "data": {
      "text/plain": [
       "array(['yes'], dtype=object)"
      ]
     },
     "execution_count": 10,
     "metadata": {},
     "output_type": "execute_result"
    }
   ],
   "source": [
    "knn = KNeighborsClassifier(n_neighbors=3)\n",
    "knn.fit(X, y)\n",
    "\n",
    "# make a prediction for an example of an out-of-sample observation\n",
    "knn.predict([[1, 2, 1, 2, 1, 5, 4, 4, 3, 4, 4]])"
   ]
  },
  {
   "cell_type": "code",
   "execution_count": null,
   "id": "10cfc69e-59b4-463c-a012-4a1db6880a18",
   "metadata": {},
   "outputs": [],
   "source": []
  }
 ],
 "metadata": {
  "kernelspec": {
   "display_name": "Python 3 (ipykernel)",
   "language": "python",
   "name": "python3"
  },
  "language_info": {
   "codemirror_mode": {
    "name": "ipython",
    "version": 3
   },
   "file_extension": ".py",
   "mimetype": "text/x-python",
   "name": "python",
   "nbconvert_exporter": "python",
   "pygments_lexer": "ipython3",
   "version": "3.12.3"
  }
 },
 "nbformat": 4,
 "nbformat_minor": 5
}
